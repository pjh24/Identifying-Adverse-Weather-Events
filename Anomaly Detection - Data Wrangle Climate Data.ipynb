{
 "cells": [
  {
   "cell_type": "code",
   "execution_count": 1,
   "id": "aebb3b18",
   "metadata": {},
   "outputs": [],
   "source": [
    "import pandas as pd"
   ]
  },
  {
   "cell_type": "code",
   "execution_count": 2,
   "id": "2e1df43b",
   "metadata": {},
   "outputs": [],
   "source": [
    "import numpy as np "
   ]
  },
  {
   "cell_type": "code",
   "execution_count": 3,
   "id": "a96e4a22",
   "metadata": {},
   "outputs": [],
   "source": [
    "def remove_C(input_string):\n",
    "    \n",
    "    out_string = input_string.replace('C', ' ')\n",
    "    \n",
    "    return out_string "
   ]
  },
  {
   "cell_type": "code",
   "execution_count": 4,
   "id": "317c82a0",
   "metadata": {},
   "outputs": [],
   "source": [
    "#input_csv_files = ['dly_tavg_normal_USC00131319.csv', \\\n",
    "#                   'dly_tmax_normal_USC00131319.csv', \\\n",
    "#                   'dly_tmin_normal_USC00131319.csv', \\\n",
    "#                   'dly_tavg_stddev_USC00131319.csv', \\\n",
    "#                   'dly_tmax_stddev_USC00131319.csv', \\\n",
    "#                   'dly_tmin_stddev_USC00131319.csv', \\\n",
    "#                  ]"
   ]
  },
  {
   "cell_type": "code",
   "execution_count": 7,
   "id": "c483295a",
   "metadata": {},
   "outputs": [],
   "source": [
    "scale_factor = 0.1 "
   ]
  },
  {
   "cell_type": "code",
   "execution_count": 8,
   "id": "198ff9e3",
   "metadata": {},
   "outputs": [
    {
     "name": "stdout",
     "output_type": "stream",
     "text": [
      "dly_tavg_normal_USC00131319_cleaned.csv\n",
      "dly_tmax_normal_USC00131319_cleaned.csv\n",
      "dly_tmin_normal_USC00131319_cleaned.csv\n",
      "dly_tavg_stddev_USC00131319_cleaned.csv\n",
      "dly_tmax_stddev_USC00131319_cleaned.csv\n",
      "dly_tmin_stddev_USC00131319_cleaned.csv\n",
      "dly_tavg_normal_USW00003947_cleaned.csv\n",
      "dly_tmax_normal_USW00003947_cleaned.csv\n",
      "dly_tmin_normal_USW00003947_cleaned.csv\n",
      "dly_tavg_stddev_USW00003947_cleaned.csv\n",
      "dly_tmax_stddev_USW00003947_cleaned.csv\n",
      "dly_tmin_stddev_USW00003947_cleaned.csv\n",
      "dly_tavg_normal_USW00093822_cleaned.csv\n",
      "dly_tmax_normal_USW00093822_cleaned.csv\n",
      "dly_tmin_normal_USW00093822_cleaned.csv\n",
      "dly_tavg_stddev_USW00093822_cleaned.csv\n",
      "dly_tmax_stddev_USW00093822_cleaned.csv\n",
      "dly_tmin_stddev_USW00093822_cleaned.csv\n"
     ]
    }
   ],
   "source": [
    "stationIDs = ['USC00131319', 'USW00003947', 'USW00093822']\n",
    "\n",
    "for stationID in stationIDs:\n",
    "    \n",
    "    input_csv_files = ['dly_tavg_normal_'+stationID+'.csv', \\\n",
    "                       'dly_tmax_normal_'+stationID+'.csv', \\\n",
    "                       'dly_tmin_normal_'+stationID+'.csv', \\\n",
    "                       'dly_tavg_stddev_'+stationID+'.csv', \\\n",
    "                       'dly_tmax_stddev_'+stationID+'.csv', \\\n",
    "                       'dly_tmin_stddev_'+stationID+'.csv', \\\n",
    "                      ]\n",
    "\n",
    "    for file in input_csv_files:\n",
    "    \n",
    "        length_file_name = len(file)\n",
    "    \n",
    "        end_index = length_file_name - 4\n",
    "    \n",
    "        substring = file[0: end_index]\n",
    "    \n",
    "        output_csv_file = substring + '_cleaned.csv' \n",
    "    \n",
    "        df_temp = pd.read_csv(file) \n",
    "    \n",
    "        df_temp = df_temp.applymap(remove_C)\n",
    "    \n",
    "        df_temp = df_temp.replace('-8888', np.nan)\n",
    "    \n",
    "        df_temp = df_temp.astype(float)\n",
    "    \n",
    "        df_temp = df_temp * scale_factor\n",
    "    \n",
    "        print(output_csv_file)\n",
    "        df_temp.to_csv(output_csv_file, index=False)"
   ]
  },
  {
   "cell_type": "code",
   "execution_count": null,
   "id": "802c6f3e",
   "metadata": {},
   "outputs": [],
   "source": []
  }
 ],
 "metadata": {
  "kernelspec": {
   "display_name": "Python 3 (ipykernel)",
   "language": "python",
   "name": "python3"
  },
  "language_info": {
   "codemirror_mode": {
    "name": "ipython",
    "version": 3
   },
   "file_extension": ".py",
   "mimetype": "text/x-python",
   "name": "python",
   "nbconvert_exporter": "python",
   "pygments_lexer": "ipython3",
   "version": "3.11.4"
  }
 },
 "nbformat": 4,
 "nbformat_minor": 5
}
